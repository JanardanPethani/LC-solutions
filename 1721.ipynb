{
 "cells": [
  {
   "attachments": {},
   "cell_type": "markdown",
   "metadata": {},
   "source": [
    "You are given the head of a linked list, and an integer k.\n",
    "\n",
    "Return the head of the linked list after swapping the values of the kth node from the beginning and the kth node from the end (the list is 1-indexed).\n"
   ]
  },
  {
   "cell_type": "code",
   "execution_count": 21,
   "metadata": {},
   "outputs": [],
   "source": [
    "from typing import Optional\n",
    "\n",
    "\n",
    "class ListNode:\n",
    "    def __init__(self, val=0, next=None):\n",
    "        self.val = val\n",
    "        self.next = next\n",
    "\n",
    "\n",
    "class Solution:\n",
    "    def swapNodes(self, head: Optional[ListNode], k: int) -> Optional[ListNode]:\n",
    "        lst = []\n",
    "        while head is not None:\n",
    "            lst.append(head.val)\n",
    "            head = head.next\n",
    "\n",
    "        lst[k - 1], lst[-k] = lst[-k], lst[k - 1]\n",
    "\n",
    "        head = ListNode(lst[0])\n",
    "        curr = head\n",
    "        for i in lst[1:]:\n",
    "            curr.next = ListNode(i)\n",
    "            curr = curr.next\n",
    "\n",
    "        return head\n",
    "\n",
    "    def swapNodes2(self, head: Optional[ListNode], k: int) -> Optional[ListNode]:\n",
    "        lft = head\n",
    "        rght = head\n",
    "        curr = head\n",
    "        count = 1\n",
    "\n",
    "        while curr != None:\n",
    "            if count < k:\n",
    "                print(lft.val, count)\n",
    "                lft = lft.next\n",
    "\n",
    "            if count > k:\n",
    "                print(rght.val, count)\n",
    "                rght = rght.next\n",
    "\n",
    "            count += 1\n",
    "            curr = curr.next\n",
    "\n",
    "        temp = lft.val\n",
    "        lft.val = rght.val\n",
    "        rght.val = temp\n",
    "\n",
    "        return head\n"
   ]
  },
  {
   "cell_type": "code",
   "execution_count": 22,
   "metadata": {},
   "outputs": [
    {
     "name": "stdout",
     "output_type": "stream",
     "text": [
      "1 2\n",
      "2 3\n",
      "3 4\n"
     ]
    }
   ],
   "source": [
    "a = ListNode(1)\n",
    "b = ListNode(2)\n",
    "c = ListNode(3)\n",
    "d = ListNode(4)\n",
    "\n",
    "a.next = b\n",
    "b.next = c\n",
    "c.next = d\n",
    "\n",
    "ans = Solution().swapNodes2(a, 1)\n"
   ]
  },
  {
   "cell_type": "code",
   "execution_count": 23,
   "metadata": {},
   "outputs": [
    {
     "name": "stdout",
     "output_type": "stream",
     "text": [
      "4\n",
      "2\n",
      "3\n",
      "1\n"
     ]
    }
   ],
   "source": [
    "while ans is not None:\n",
    "    print(ans.val)\n",
    "    ans = ans.next\n"
   ]
  },
  {
   "cell_type": "code",
   "execution_count": null,
   "metadata": {},
   "outputs": [],
   "source": [
    "1 2 3 4 5"
   ]
  }
 ],
 "metadata": {
  "kernelspec": {
   "display_name": "Python 3",
   "language": "python",
   "name": "python3"
  },
  "language_info": {
   "codemirror_mode": {
    "name": "ipython",
    "version": 3
   },
   "file_extension": ".py",
   "mimetype": "text/x-python",
   "name": "python",
   "nbconvert_exporter": "python",
   "pygments_lexer": "ipython3",
   "version": "3.10.4"
  },
  "orig_nbformat": 4
 },
 "nbformat": 4,
 "nbformat_minor": 2
}
