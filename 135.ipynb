{
 "cells": [
  {
   "cell_type": "code",
   "execution_count": 1,
   "metadata": {},
   "outputs": [],
   "source": [
    "class Solution:\n",
    "    def candy(self, ratings: list[int]) -> int:\n",
    "        candies = [1] * len(ratings)\n",
    "        uniques = sorted(set(ratings), reverse=True)\n",
    "\n",
    "        for idx in range(len(ratings)):\n",
    "            if idx == 0:\n",
    "                if ratings[idx] > ratings[idx + 1]:\n",
    "                    candies[idx] += 1\n",
    "            elif idx == len(ratings) - 1:\n",
    "                if ratings[idx] > ratings[idx - 1]:\n",
    "                    candies[idx] += 1\n",
    "            elif ratings[idx] > ratings[idx - 1]:\n",
    "                candies[idx] += candies[idx - 1]\n",
    "            elif ratings[idx] > ratings[idx + 1]:\n",
    "                candies[idx] += candies[idx + 1]\n",
    "        print(candies, sum(candies))\n",
    "\n",
    "        return sum(candies)"
   ]
  },
  {
   "cell_type": "code",
   "execution_count": 9,
   "metadata": {},
   "outputs": [
    {
     "data": {
      "text/plain": [
       "[1, 2]"
      ]
     },
     "execution_count": 9,
     "metadata": {},
     "output_type": "execute_result"
    }
   ],
   "source": [
    "# ratings = [1, 0, 2]\n",
    "ratings = [1, 2, 2]\n",
    "# ratings = [1, 2, 87, 87, 87, 2, 1]\n",
    "\n",
    "uniques = sorted(set(ratings))\n",
    "\n",
    "uniques\n",
    "# Solution().candy(ratings)"
   ]
  },
  {
   "cell_type": "code",
   "execution_count": 76,
   "metadata": {},
   "outputs": [
    {
     "name": "stdout",
     "output_type": "stream",
     "text": [
      "lCompare: idx: 1 - ratings: 3 2\n",
      "lCompare: idx: 2 - ratings: 4 3\n",
      "lCompare: idx: 3 - ratings: 5 4\n",
      "[1, 2, 3, 4, 1]\n",
      "[1, 2, 3, 2, 1]\n"
     ]
    },
    {
     "data": {
      "text/plain": [
       "9"
      ]
     },
     "execution_count": 76,
     "metadata": {},
     "output_type": "execute_result"
    }
   ],
   "source": [
    "ratings = [1, 3, 4, 5, 2]\n",
    "# ratings = [1, 0, 2]\n",
    "# ratings = [1, 2, 2]\n",
    "lCompare = rCompare = [1] * len(ratings)\n",
    "l = len(ratings)\n",
    "\n",
    "for idx in range(1, l):\n",
    "    if ratings[idx] > ratings[idx - 1]:\n",
    "        print(\n",
    "            \"lCompare:\", \"idx:\", idx, \"- ratings:\", ratings[idx], lCompare[idx - 1] + 1\n",
    "        )\n",
    "        lCompare[idx] = lCompare[idx - 1] + 1\n",
    "print(lCompare)\n",
    "\n",
    "for idx in range(l - 2, -1, -1):\n",
    "    if ratings[idx] > ratings[idx + 1]:\n",
    "        rCompare[idx] = rCompare[idx + 1] + 1\n",
    "print(rCompare)\n",
    "candies = map(max, zip(lCompare, rCompare))\n",
    "sum(candies)"
   ]
  }
 ],
 "metadata": {
  "kernelspec": {
   "display_name": "Python 3",
   "language": "python",
   "name": "python3"
  },
  "language_info": {
   "codemirror_mode": {
    "name": "ipython",
    "version": 3
   },
   "file_extension": ".py",
   "mimetype": "text/x-python",
   "name": "python",
   "nbconvert_exporter": "python",
   "pygments_lexer": "ipython3",
   "version": "3.10.4"
  },
  "orig_nbformat": 4
 },
 "nbformat": 4,
 "nbformat_minor": 2
}
