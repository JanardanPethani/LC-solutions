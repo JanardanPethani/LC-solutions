{
 "cells": [
  {
   "cell_type": "code",
   "execution_count": null,
   "metadata": {},
   "outputs": [],
   "source": [
    "# link: https://leetcode.com/problems/regular-expression-matching/description/\n",
    "def match(s, p):\n",
    "    # used list comprehension due to avoid duplication\n",
    "    dp = [[False] * (len(s) + 1) for i1 in range((len(p) + 1))]\n",
    "    for i in range(len(dp)):\n",
    "        for j in range(len(dp[0])):\n",
    "            if i == 0 and j == 0:\n",
    "                # print(\"i == 0 and j == 0\", i, j)\n",
    "                dp[i][j] = True\n",
    "            elif i == 0:\n",
    "                # print(\"i == 0\", i, j)\n",
    "                dp[i][j] = False\n",
    "            elif j == 0:\n",
    "                # print(\"j == 0\", i, j)\n",
    "                if p[i - 1] == \"*\":\n",
    "                    dp[i][j] = dp[i - 2][j]\n",
    "                else:\n",
    "                    dp[i][j] = False\n",
    "            else:\n",
    "                pc = p[i - 1]\n",
    "                sc = s[j - 1]\n",
    "\n",
    "                if pc == \"*\":\n",
    "                    # print(\"*->\", i, j)\n",
    "\n",
    "                    dp[i][j] = dp[i - 2][j]\n",
    "\n",
    "                    plsc = p[i - 2]\n",
    "                    if plsc == sc or plsc == \".\":\n",
    "                        dp[i][j] = dp[i][j] or dp[i][j - 1]\n",
    "\n",
    "                elif pc == sc:\n",
    "                    # print(\"pc == sc->\", i, j)\n",
    "\n",
    "                    dp[i][j] = dp[i - 1][j - 1]\n",
    "                elif pc == \".\":\n",
    "                    # print(\".->\", i, j)\n",
    "\n",
    "                    dp[i][j] = dp[i - 1][j - 1]\n",
    "                else:\n",
    "                    # print(\"else->\", i, j)\n",
    "\n",
    "                    dp[i][j] = False\n",
    "    return dp[-1][-1]\n",
    "\n",
    "\n",
    "p = \"ab*c*d\"\n",
    "s = \"abd\"\n",
    "match(s, p)"
   ]
  },
  {
   "attachments": {
    "image.png": {
     "image/png": "[encoded data removed]"
    }
   },
   "cell_type": "markdown",
   "metadata": {},
   "source": [
    "pattern:\n",
    "![image.png](attachment:image.png)\n"
   ]
  },
  {
   "cell_type": "code",
   "execution_count": null,
   "metadata": {},
   "outputs": [],
   "source": [
    "n = 5\n",
    "\n",
    "for i in range(0, n + 1):\n",
    "    for j in range(i):\n",
    "        print(\"*\", end=\"\")\n",
    "    print(\"\")\n",
    "\n",
    "for i in range(n - 1):\n",
    "    for j in range(n - i - 1, 0, -1):\n",
    "        print(\"*\", end=\"\")\n",
    "    print(\"\")"
   ]
  },
  {
   "attachments": {
    "image.png": {
     "image/png": "[encoded data removed]"
    }
   },
   "cell_type": "markdown",
   "metadata": {},
   "source": [
    "![image.png](attachment:image.png)\n"
   ]
  },
  {
   "cell_type": "code",
   "execution_count": null,
   "metadata": {},
   "outputs": [],
   "source": [
    "n = 7\n",
    "\n",
    "for i in range(1, n + 1):\n",
    "    for j in range(65 + n - i, 65 + n):\n",
    "        print(chr(j), end=\"\")\n",
    "    print(\"\")"
   ]
  },
  {
   "attachments": {},
   "cell_type": "markdown",
   "metadata": {},
   "source": [
    "### Def: Given an array of integers nums and an integer target, return indices of the two numbers such that they add up to target.\n",
    "\n",
    "You may assume that each input would have exactly one solution, and you may not use the same element twice.\n",
    "\n",
    "You can return the answer in any order\n"
   ]
  },
  {
   "cell_type": "code",
   "execution_count": null,
   "metadata": {},
   "outputs": [],
   "source": [
    "def twoSum(nums, target):\n",
    "    for i in range(len(nums)):\n",
    "        el_1 = nums[i]\n",
    "        try:\n",
    "            idx_2 = nums[i + 1 :].index(target - el_1)\n",
    "        except:\n",
    "            continue\n",
    "        return [i, idx_2 + 1 + i]\n",
    "\n",
    "\n",
    "twoSum([2, 7, 11, 15], 9)"
   ]
  },
  {
   "attachments": {},
   "cell_type": "markdown",
   "metadata": {},
   "source": [
    "### DF: Given two integer arrays nums1 and nums2, return an array of their intersection. Each element in the result must appear as many times as it shows in both arrays and you may return the result in any order.\n"
   ]
  },
  {
   "cell_type": "code",
   "execution_count": null,
   "metadata": {},
   "outputs": [],
   "source": [
    "def intersect(nums1: list[int], nums2: list[int]) -> list[int]:\n",
    "    op = []\n",
    "    for i in nums1:\n",
    "        if i in nums2:\n",
    "            op.append(i)\n",
    "            nums2.pop(nums2.index(i))\n",
    "    return op\n",
    "\n",
    "\n",
    "intersect([1, 2, 2, 1], [2, 2])"
   ]
  },
  {
   "attachments": {},
   "cell_type": "markdown",
   "metadata": {},
   "source": [
    "### In MATLAB, there is a handy function called reshape which can reshape an m x n matrix into a new one with a different size r x c keeping its original data.\n",
    "\n",
    "You are given an m x n matrix mat and two integers r and c representing the number of rows and the number of columns of the wanted reshaped matrix.\n",
    "\n",
    "The reshaped matrix should be filled with all the elements of the original matrix in the same row-traversing order as they were.\n",
    "\n",
    "If the reshape operation with given parameters is possible and legal, output the new reshaped matrix; Otherwise, output the original matrix.\n"
   ]
  },
  {
   "cell_type": "code",
   "execution_count": null,
   "metadata": {},
   "outputs": [],
   "source": [
    "def matrixReshape(mat: list[list[int]], r: int, c: int) -> list[list[int]]:\n",
    "    if len(mat) * len(mat[0]) != r * c:\n",
    "        return mat\n",
    "    newMat = [[0] * c for i in range(r)]\n",
    "    rp = 0\n",
    "    cp = 0\n",
    "    for i in range(len(mat)):\n",
    "        for j in range(len(mat[0])):\n",
    "            newMat[rp][cp] = mat[i][j]\n",
    "            print(rp, cp, newMat, mat[i][j])\n",
    "            cp += 1\n",
    "            if cp == c:\n",
    "                cp = 0\n",
    "                rp += 1\n",
    "    return newMat\n",
    "\n",
    "\n",
    "matrixReshape([[1, 2], [3, 4]], 4, 1)"
   ]
  },
  {
   "attachments": {},
   "cell_type": "markdown",
   "metadata": {},
   "source": [
    "### Given a string s, find the first non-repeating character in it and return its index. If it does not exist, return -1.\n"
   ]
  },
  {
   "cell_type": "code",
   "execution_count": null,
   "metadata": {},
   "outputs": [],
   "source": [
    "def firstUniqChar(s: str) -> int:\n",
    "    sset = dict()\n",
    "    for i in s:\n",
    "        if i not in sset:\n",
    "            sset[i] = 0\n",
    "        else:\n",
    "            sset[i] += 1\n",
    "\n",
    "    for i in sset.keys():\n",
    "        if sset.get(i) == 0:\n",
    "            return s.find(i)\n",
    "    return -1\n",
    "\n",
    "\n",
    "firstUniqChar(\"leetcode\")"
   ]
  },
  {
   "attachments": {},
   "cell_type": "markdown",
   "metadata": {},
   "source": [
    "### Given two strings ransomNote and magazine, return true if ransomNote can be constructed by using the letters from magazine and false otherwise. Each letter in magazine can only be used once in ransomNote.\n"
   ]
  },
  {
   "cell_type": "code",
   "execution_count": null,
   "metadata": {},
   "outputs": [],
   "source": [
    "from collections import Counter\n",
    "\n",
    "ransomNote = \"xmmhyjzjdwgafmqvdjtekwjocdjupesvpkjhiicobboisbvlvjnhhuivqfxinndkvvwqdkjsqmqrnsxgzzkmzjecbicgiwievwgmjgjucwdftgveaxgrbcypqjjypanlrxqzsmgllcciyekduhzxacfdmpwpepapsaqngtjlqjesrmgbfvupjirwcjoidwdxigupponmzzrustodgwgnisheeawbbvpwrbrliriognkulzzllwyq\"\n",
    "magazine = \"dbcxxxqfjsdauxegoblxtcupxhrjmsaqocwhdnmuxrcagirtdkvvjplqqvomtwadpwqhouxinpqkldhotlqqljmsgexhhsfrqwhhrtqbmsvwrqvromnxbppernlhjtwdxslputqpuckejqtldedslkmiaplfbmexmjfoxtolnbgfllkdlecbjcunmlgrpdogjdtgkuklhesphablolsusoxtfbuldaeamrigmfuirwmdfaqkmcutapdbdafmumggxtjpgxntuuokmkpavbxgjucroakcmhfwqqaxqcmkabisvhpfaxuvgodcnscobaicqbexkfbhvlauagprxerbguxebofruipiwvvxuafidcarnbqmqjjalpuitlecfwtsmnmavnxxjxqimfapewbtdoemacgadtspijqagjhlrswieukatsllxkxblllfpoxhtabahxverkelgodqmwooxlehtfdqcqxrfcabimscsqsqkknhassgdadppqhbcjehobecblvetlopibhwqvqrtsehqvhppifiokvkjkxmomsiikbtchwbgiqbwmbetodeuqelsjhjbsvdrweqwjpnntwdruhpmsfljiiucknevoaqvnxeotaniswpigibuvdovfrfkcjdcabpcgcwqmljpoienbfajwvdifqosuuxihsajsfawnpbkxncogevewutkalpbfvqxeldcibbgvnfamfauvhqeuhwkinqjanxowtjujgbjnuflwwixfgrtronscdjalsswwkqjusigumjjecjwwhbpncwibxcpowtptqbhchwxlnjdpitlkmgbhkdvsatgsbqrggfhsmtksiviorouofkrqociioempjlmhdcrfkpiqewcsdccfalpxhvdjcgtuqsxfhkedxcrorkpsiivuxtknudmfdxbsvpuilustfevdakqhigvgsbebvumfbrxibrjknpjwmgtiahnbknjbpntutxdrfcfhlqhqqnstlwfurpghwotnawqgmoriwmsgtuwvjnndknjquedkuxrdeglglqgtmfioknnhshcfjeauavlrfsuduulfffjrahfxolnoslqkrbcxvspfavtmpq\"\n",
    "\n",
    "cnt = Counter(magazine)\n",
    "\n",
    "\n",
    "def canConstruct(ransomNote, magazine):\n",
    "    cnt = Counter(magazine)\n",
    "    for c in ransomNote:\n",
    "        cnt[c] -= 1\n",
    "        if cnt[c] < 0:\n",
    "            return False\n",
    "    return True\n",
    "\n",
    "\n",
    "canConstruct(ransomNote, magazine)"
   ]
  },
  {
   "attachments": {},
   "cell_type": "markdown",
   "metadata": {},
   "source": [
    "Determine if a 9 x 9 Sudoku board is valid. Only the filled cells need to be validated according to the following rules:\n",
    "\n",
    "Each row must contain the digits 1-9 without repetition.\n",
    "Each column must contain the digits 1-9 without repetition.\n",
    "Each of the nine 3 x 3 sub-boxes of the grid must contain the digits 1-9 without repetition.\n",
    "Note:\n",
    "\n",
    "A Sudoku board (partially filled) could be valid but is not necessarily solvable.\n",
    "Only the filled cells need to be validated according to the mentioned rules.\n"
   ]
  },
  {
   "cell_type": "code",
   "execution_count": null,
   "metadata": {},
   "outputs": [],
   "source": [
    "class Solution:\n",
    "    def isValidSudoku(self, board: list[list[str]]):\n",
    "        for l1_idx in range(9):\n",
    "            for l2_idx in range(9):\n",
    "                if board[l1_idx][l2_idx] != \".\":\n",
    "                    if board[l1_idx][l2_idx] in board[l1_idx][l2_idx + 1 :]:\n",
    "                        # print(board[l1_idx][l2_idx], board[l1_idx][l2_idx + 1 :])\n",
    "                        return False\n",
    "                    if board[l1_idx][l2_idx] in [\n",
    "                        board[i][l2_idx] for i in range(l1_idx + 1, 9)\n",
    "                    ]:\n",
    "                        # print(\n",
    "                        #     board[l1_idx][l2_idx],\n",
    "                        #     [board[i][l2_idx] for i in range(l1_idx + 1, 9)],\n",
    "                        # )\n",
    "                        return False\n",
    "                    related_mat = [\n",
    "                        board[l1_idx - l1_idx % 3 + i][\n",
    "                            l2_idx - l2_idx % 3 : (l2_idx - l2_idx % 3) + 3\n",
    "                        ]\n",
    "                        for i in range(3)\n",
    "                    ]\n",
    "                    related_mat[l1_idx % 3][l2_idx % 3] = \".\"\n",
    "\n",
    "                    for sub_mat in related_mat:\n",
    "                        if board[l1_idx][l2_idx] in sub_mat:\n",
    "                            return False\n",
    "        return True\n",
    "\n",
    "\n",
    "obj = Solution()\n",
    "# obj.isValidSudoku(\n",
    "#     [\n",
    "#         [\"5\", \"3\", \".\", \".\", \"7\", \".\", \".\", \".\", \".\"],\n",
    "#         [\"6\", \".\", \".\", \"1\", \"9\", \"5\", \".\", \".\", \".\"],\n",
    "#         [\".\", \"9\", \"8\", \".\", \".\", \".\", \".\", \"6\", \".\"],\n",
    "#         [\"8\", \".\", \".\", \".\", \"6\", \".\", \".\", \".\", \"3\"],\n",
    "#         [\"4\", \".\", \".\", \"8\", \".\", \"3\", \".\", \".\", \"1\"],\n",
    "#         [\"7\", \".\", \".\", \".\", \"2\", \".\", \".\", \".\", \"6\"],\n",
    "#         [\".\", \"6\", \".\", \".\", \".\", \".\", \"2\", \"8\", \".\"],\n",
    "#         [\".\", \".\", \".\", \"4\", \"1\", \"9\", \".\", \".\", \"5\"],\n",
    "#         [\".\", \".\", \".\", \".\", \"8\", \".\", \".\", \"7\", \"9\"],\n",
    "#     ]\n",
    "# )\n",
    "\n",
    "# obj.isValidSudoku(\n",
    "#     [\n",
    "#         [\"8\", \"3\", \".\", \".\", \"7\", \".\", \".\", \".\", \".\"],\n",
    "#         [\"6\", \".\", \".\", \"1\", \"9\", \"5\", \".\", \".\", \".\"],\n",
    "#         [\".\", \"9\", \"8\", \".\", \".\", \".\", \".\", \"6\", \".\"],\n",
    "#         [\"8\", \".\", \".\", \".\", \"6\", \".\", \".\", \".\", \"3\"],\n",
    "#         [\"4\", \".\", \".\", \"8\", \".\", \"3\", \".\", \".\", \"1\"],\n",
    "#         [\"7\", \".\", \".\", \".\", \"2\", \".\", \".\", \".\", \"6\"],\n",
    "#         [\".\", \"6\", \".\", \".\", \".\", \".\", \"2\", \"8\", \".\"],\n",
    "#         [\".\", \".\", \".\", \"4\", \"1\", \"9\", \".\", \".\", \"5\"],\n",
    "#         [\".\", \".\", \".\", \".\", \"8\", \".\", \".\", \"7\", \"9\"],\n",
    "#     ]\n",
    "# )\n",
    "\n",
    "# obj.isValidSudoku(\n",
    "#     [\n",
    "#         [\".\", \".\", \".\", \".\", \"5\", \".\", \".\", \"1\", \".\"],\n",
    "#         [\".\", \"4\", \".\", \"3\", \".\", \".\", \".\", \".\", \".\"],\n",
    "#         [\".\", \".\", \".\", \".\", \".\", \"3\", \".\", \".\", \"1\"],\n",
    "#         [\"8\", \".\", \".\", \".\", \".\", \".\", \".\", \"2\", \".\"],\n",
    "#         [\".\", \".\", \"2\", \".\", \"7\", \".\", \".\", \".\", \".\"],\n",
    "#         [\".\", \"1\", \"5\", \".\", \".\", \".\", \".\", \".\", \".\"],\n",
    "#         [\".\", \".\", \".\", \".\", \".\", \"2\", \".\", \".\", \".\"],\n",
    "#         [\".\", \"2\", \".\", \"9\", \".\", \".\", \".\", \".\", \".\"],\n",
    "#         [\".\", \".\", \"4\", \".\", \".\", \".\", \".\", \".\", \".\"],\n",
    "#     ]\n",
    "# )"
   ]
  },
  {
   "attachments": {},
   "cell_type": "markdown",
   "metadata": {},
   "source": [
    "You are given an m x n integer matrix matrix with the following two properties:\n",
    "\n",
    "Each row is sorted in non-decreasing order.\n",
    "The first integer of each row is greater than the last integer of the previous row.\n",
    "Given an integer target, return true if target is in matrix or false otherwise.\n",
    "\n",
    "You must write a solution in O(log(m \\* n)) time complexity.\n"
   ]
  },
  {
   "cell_type": "code",
   "execution_count": null,
   "metadata": {},
   "outputs": [],
   "source": [
    "class Solution:\n",
    "    def searchMatrix(self, matrix: list[list[int]], target: int) -> bool:\n",
    "        first_items = [(i, matrix[i][0]) for i in range(len(matrix))]\n",
    "        # print(first_items)\n",
    "        row_num = len(matrix) - 1\n",
    "        for item in first_items:\n",
    "            if target == item[1]:\n",
    "                return True\n",
    "            if target < item[1] and item[0] == 0:\n",
    "                row_num = 0\n",
    "            if target < item[1]:\n",
    "                row_num = item[0] - 1\n",
    "                break\n",
    "        if target in matrix[row_num]:\n",
    "            return True\n",
    "        return False\n",
    "\n",
    "\n",
    "obj = Solution()\n",
    "obj.searchMatrix([[1, 3, 5, 7], [10, 11, 16, 20], [23, 30, 34, 60]], 3)\n",
    "obj.searchMatrix([[1, 3, 5, 7], [10, 11, 16, 20], [23, 30, 34, 60]], 13)\n",
    "obj.searchMatrix([[1, 3, 5, 7], [10, 11, 16, 20], [23, 30, 34, 50]], 30)"
   ]
  },
  {
   "attachments": {},
   "cell_type": "markdown",
   "metadata": {},
   "source": [
    "141. Given head, the head of a linked list, determine if the linked list has a cycle in it.\n",
    "\n",
    "There is a cycle in a linked list if there is some node in the list that can be reached again by continuously following the next pointer. Internally, pos is used to denote the index of the node that tail's next pointer is connected to. Note that pos is not passed as a parameter.\n",
    "\n",
    "Return true if there is a cycle in the linked list. Otherwise, return false.\n"
   ]
  },
  {
   "cell_type": "code",
   "execution_count": null,
   "metadata": {},
   "outputs": [],
   "source": [
    "from typing import Optional\n",
    "\n",
    "\n",
    "# Definition for singly-linked list.\n",
    "class ListNode:\n",
    "    def __init__(self, x):\n",
    "        self.val = x\n",
    "        self.next = None\n",
    "\n",
    "\n",
    "class Solution:\n",
    "    def hasCycle(self, head: Optional[ListNode]) -> bool:\n",
    "        if not head:\n",
    "            return False\n",
    "        if head.next is None:\n",
    "            return False\n",
    "        # Dict takes more space and less exe time\n",
    "        # vice versa for list\n",
    "        dic = {}\n",
    "        while head != None:\n",
    "            if head in dic:\n",
    "                return True\n",
    "            dic[head] = 1\n",
    "            head = head.next\n",
    "        return False"
   ]
  },
  {
   "attachments": {},
   "cell_type": "markdown",
   "metadata": {},
   "source": [
    "21. You are given the heads of two sorted linked lists list1 and list2.\n",
    "\n",
    "Merge the two lists in a one sorted list. The list should be made by splicing together the nodes of the first two lists.\n",
    "\n",
    "Return the head of the merged linked list.\n"
   ]
  },
  {
   "cell_type": "code",
   "execution_count": null,
   "metadata": {},
   "outputs": [],
   "source": [
    "from typing import Optional\n",
    "\n",
    "\n",
    "class ListNode:\n",
    "    def __init__(self, val=0, next=None):\n",
    "        self.val = val\n",
    "        self.next = next\n",
    "\n",
    "\n",
    "class Solution:\n",
    "    def mergeTwoLists(\n",
    "        self, list1: Optional[ListNode], list2: Optional[ListNode]\n",
    "    ) -> Optional[ListNode]:\n",
    "        if not list1 and not list2:\n",
    "            return None\n",
    "        if list1 and not list2:\n",
    "            return list1\n",
    "        if not list1 and list2:\n",
    "            return list2\n",
    "\n",
    "        h1 = list1\n",
    "        h2 = list2\n",
    "        h3, curr = None, None\n",
    "        while h1 and h2:\n",
    "            if h1.val == h2.val:\n",
    "                if curr:\n",
    "                    curr.next = ListNode(h1.val)\n",
    "                    curr.next.next = ListNode(h2.val)\n",
    "                    curr = curr.next.next\n",
    "                else:\n",
    "                    h3 = curr = ListNode(h1.val)\n",
    "                    curr.next = ListNode(h2.val)\n",
    "                    curr = curr.next\n",
    "                h1 = h1.next\n",
    "                h2 = h2.next\n",
    "\n",
    "            elif h1.val < h2.val:\n",
    "                if curr:\n",
    "                    curr.next = ListNode(h1.val)\n",
    "                    curr = curr.next\n",
    "                else:\n",
    "                    h3 = curr = ListNode(h1.val)\n",
    "                h1 = h1.next\n",
    "\n",
    "            elif h1.val > h2.val:\n",
    "                if curr:\n",
    "                    curr.next = ListNode(h2.val)\n",
    "                    curr = curr.next\n",
    "                else:\n",
    "                    h3 = curr = ListNode(h2.val)\n",
    "                h2 = h2.next\n",
    "\n",
    "        while h1:\n",
    "            curr.next = ListNode(h1.val)\n",
    "            curr = curr.next\n",
    "            h1 = h1.next\n",
    "\n",
    "        while h2:\n",
    "            curr.next = ListNode(h2.val)\n",
    "            curr = curr.next\n",
    "            h2 = h2.next\n",
    "\n",
    "        return h3\n",
    "\n",
    "\n",
    "d = Solution()\n",
    "\n",
    "l11 = ListNode(-9)\n",
    "l12 = ListNode(3)\n",
    "l21 = ListNode(5)\n",
    "l22 = ListNode(7)\n",
    "\n",
    "l11.next = l12\n",
    "\n",
    "l21.next = l22\n",
    "\n",
    "fl = d.mergeTwoLists(l11, l21)\n",
    "while fl:\n",
    "    print(fl.val)\n",
    "    fl = fl.next"
   ]
  },
  {
   "attachments": {},
   "cell_type": "markdown",
   "metadata": {},
   "source": [
    "### 13.Roman to Integer\n"
   ]
  },
  {
   "cell_type": "code",
   "execution_count": null,
   "metadata": {},
   "outputs": [],
   "source": [
    "mapping = {\n",
    "    \"I\": 1,\n",
    "    \"V\": 5,\n",
    "    \"X\": 10,\n",
    "    \"L\": 50,\n",
    "    \"C\": 100,\n",
    "    \"D\": 500,\n",
    "    \"M\": 1000,\n",
    "}\n",
    "\n",
    "rom = \"MCMXCIV\"\n",
    "num = 0\n",
    "i = 0\n",
    "while i < len(rom):\n",
    "    if i < len(rom) - 1 and mapping.get(rom[i + 1], 0) > mapping.get(rom[i], 0):\n",
    "        toAdd = mapping.get(rom[i + 1], 0) - mapping.get(rom[i], 0)\n",
    "        i += 1\n",
    "    else:\n",
    "        toAdd = mapping.get(rom[i], 0)\n",
    "    num += toAdd\n",
    "    i += 1\n",
    "\n",
    "print(num)"
   ]
  },
  {
   "cell_type": "code",
   "execution_count": null,
   "metadata": {},
   "outputs": [],
   "source": [
    "s = \"{[]}\"\n",
    "\n",
    "\n",
    "def check(s):\n",
    "    stack = []\n",
    "    for i in s:\n",
    "        if i == \"]\" or i == \")\" or i == \"}\" and len(stack) == 0:\n",
    "            return False\n",
    "        if i == \"]\" and stack[-1] == \"[\":\n",
    "            print(stack)\n",
    "            stack.pop()\n",
    "        else:\n",
    "            return False\n",
    "        if i == \"}\" and stack[-1] == \"{\":\n",
    "            stack.pop()\n",
    "        else:\n",
    "            return False\n",
    "        if i == \")\" and stack[-1] == \"{\":\n",
    "            stack.pop()\n",
    "        else:\n",
    "            return False\n",
    "        stack.append(i)\n",
    "        print(stack)\n",
    "    if len(stack) == 0:\n",
    "        return True\n",
    "    return False\n",
    "\n",
    "\n",
    "print(check(s))"
   ]
  },
  {
   "attachments": {},
   "cell_type": "markdown",
   "metadata": {},
   "source": [
    "### 189. Rotate Array\n"
   ]
  },
  {
   "cell_type": "code",
   "execution_count": null,
   "metadata": {},
   "outputs": [],
   "source": [
    "k = 2\n",
    "nums = [-1, -100, 3, 99]\n",
    "nums.reverse()\n",
    "nums[:k] = nums[:k][::-1]\n",
    "nums[k:] = nums[k:][::-1]\n",
    "nums"
   ]
  },
  {
   "attachments": {},
   "cell_type": "markdown",
   "metadata": {},
   "source": [
    "### 122. Best Time to Buy and Sell Stock II\n",
    "\n",
    "You are given an integer array prices where prices[i] is the price of a given stock on the ith day.\n",
    "\n",
    "On each day, you may decide to buy and/or sell the stock. You can only hold at most one share of the stock at any time. However, you can buy it then immediately sell it on the same day.\n",
    "\n",
    "Find and return the maximum profit you can achieve.\n"
   ]
  },
  {
   "cell_type": "code",
   "execution_count": null,
   "metadata": {},
   "outputs": [],
   "source": [
    "prices = [7, 1, 5, 3, 6, 4]\n",
    "max_p = 0\n",
    "p_c = 0\n",
    "p_at = 0\n",
    "for i in range(1, len(prices)):\n",
    "    if prices[i] > prices[i - 1]:\n",
    "        max_p += prices[i] - prices[i - 1]\n",
    "print(max_p)"
   ]
  },
  {
   "attachments": {},
   "cell_type": "markdown",
   "metadata": {},
   "source": [
    "### 55. Jump Game\n",
    "\n",
    "You are given an integer array nums. You are initially positioned at the array's first index, and each element in the array represents your maximum jump length at that position.\n",
    "Return true if you can reach the last index, or false otherwise.\n"
   ]
  },
  {
   "cell_type": "code",
   "execution_count": null,
   "metadata": {},
   "outputs": [],
   "source": [
    "# nums = [4,0,4,2,2,0,1,3,3,0,3]\n",
    "# nums = [2,3,1,1,4]\n",
    "# nums = [3, 2, 1, 0, 4]\n",
    "# nums = [1, 2, 0, 1]\n",
    "nums = [1, 0, 1, 0]\n",
    "# nums = [0, 2]\n",
    "\n",
    "\n",
    "def canJump(nums):\n",
    "    goal = len(nums) - 1\n",
    "\n",
    "    for i in range(len(nums) - 1, -1, -1):\n",
    "        if i + nums[i] >= goal:\n",
    "            goal = i\n",
    "\n",
    "    return True if goal == 0 else False\n",
    "\n",
    "\n",
    "canJump(nums)"
   ]
  },
  {
   "attachments": {},
   "cell_type": "markdown",
   "metadata": {},
   "source": [
    "1491. Average Salary Excluding the Minimum and Maximum Salary\n"
   ]
  },
  {
   "cell_type": "code",
   "execution_count": null,
   "metadata": {},
   "outputs": [],
   "source": [
    "salary = [4000, 3000, 1000, 2000]\n",
    "maxS = max(salary)\n",
    "minS = min(salary)\n",
    "salary.pop(salary.index(maxS))\n",
    "salary.pop(salary.index(minS))\n",
    "\n",
    "sum(salary) / len(salary)"
   ]
  },
  {
   "attachments": {},
   "cell_type": "markdown",
   "metadata": {},
   "source": [
    "125. Valid Palindrome\n",
    "\n",
    "A phrase is a palindrome if, after converting all uppercase letters into lowercase letters and removing all non-alphanumeric characters, it reads the same forward and backward. Alphanumeric characters include letters and numbers.\n",
    "\n",
    "Given a string s, return true if it is a palindrome, or false otherwise.\n"
   ]
  },
  {
   "cell_type": "code",
   "execution_count": null,
   "metadata": {},
   "outputs": [],
   "source": [
    "import re\n",
    "\n",
    "s = \"A man, a plan, a canal: Panama\"\n",
    "new_str = re.sub(r\"[\\W_]\", \"\", s)\n",
    "print(new_str)"
   ]
  }
 ],
 "metadata": {
  "kernelspec": {
   "display_name": "Python 3",
   "language": "python",
   "name": "python3"
  },
  "language_info": {
   "codemirror_mode": {
    "name": "ipython",
    "version": 3
   },
   "file_extension": ".py",
   "mimetype": "text/x-python",
   "name": "python",
   "nbconvert_exporter": "python",
   "pygments_lexer": "ipython3",
   "version": "3.10.4"
  },
  "orig_nbformat": 4,
  "vscode": {
   "interpreter": {
    "hash": "dd47b0b2dc6b2f7a6a480d89ea30154bc6e1cacd122e071d50f9bce6b1da19a1"
   }
  }
 },
 "nbformat": 4,
 "nbformat_minor": 2
}
